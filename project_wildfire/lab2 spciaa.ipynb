{
 "cells": [
  {
   "cell_type": "code",
   "execution_count": 3,
   "id": "a8b44a43-9d17-4917-ada0-4eeb38649ef3",
   "metadata": {},
   "outputs": [],
   "source": [
    "import cv2\n",
    "import numpy as np\n",
    "\n",
    "# Load the image in grayscale mode\n",
    "image_path = \"IMG_0896.png\"\n",
    "binary_image = cv2.imread(image_path, cv2.IMREAD_GRAYSCALE)\n",
    "\n",
    "# Apply threshold to make sure it's binary\n",
    "_, binary_threshold = cv2.threshold(binary_image, 127, 255, cv2.THRESH_BINARY)\n",
    "\n",
    "# Convert 255s to 1s\n",
    "fuel_matrix = (binary_threshold / 255).astype(np.uint8)\n",
    "\n",
    "# Now, fuel_matrix contains 1s for fuel areas and 0s for non-fuel areas\n"
   ]
  },
  {
   "cell_type": "code",
   "execution_count": 5,
   "id": "a1ba1071-5692-43da-9441-ddd9a375d19b",
   "metadata": {},
   "outputs": [
    {
     "data": {
      "text/plain": [
       "(100, 100)"
      ]
     },
     "execution_count": 5,
     "metadata": {},
     "output_type": "execute_result"
    }
   ],
   "source": [
    "fuel_matrix"
   ]
  },
  {
   "cell_type": "code",
   "execution_count": 6,
   "id": "bbfc87b0-a0f0-4da4-8471-fac3ef7bfd18",
   "metadata": {},
   "outputs": [],
   "source": [
    "np.savetxt(\"fuel_matrix.csv\", fuel_matrix, delimiter=\",\", fmt=\"%d\")"
   ]
  },
  {
   "cell_type": "code",
   "execution_count": 7,
   "id": "7559b83b-b596-4456-b9c9-b40f8faa23da",
   "metadata": {},
   "outputs": [
    {
     "data": {
      "image/png": "[encoded data removed]",
      "text/plain": [
       "<Figure size 500x500 with 1 Axes>"
      ]
     },
     "metadata": {},
     "output_type": "display_data"
    }
   ],
   "source": [
    "import matplotlib.pyplot as plt\n",
    "import numpy as np\n",
    "\n",
    "# Function to plot a binary matrix\n",
    "def plot_binary_matrix(size=10):\n",
    "    \"\"\"\n",
    "    Generates and plots a binary matrix of the given size.\n",
    "    \n",
    "    Parameters:\n",
    "    - size: int, the width and height of the square binary matrix\n",
    "    \"\"\"\n",
    "    # Generate a random binary matrix\n",
    "    binary_matrix = fuel_matrix\n",
    "    \n",
    "    # Plot the matrix\n",
    "    plt.figure(figsize=(5, 5))\n",
    "    plt.imshow(binary_matrix, cmap='gray', interpolation='nearest')\n",
    "    plt.title(f'{size}x{size} Binary Matrix')\n",
    "    plt.axis('off')  # Hide the axes\n",
    "    plt.show()\n",
    "\n",
    "# Call the function to plot a 10x10 binary matrix\n",
    "plot_binary_matrix(10)"
   ]
  },
  {
   "cell_type": "code",
   "execution_count": 8,
   "id": "55a6576a-3808-4139-b22c-68707650a1c3",
   "metadata": {},
   "outputs": [],
   "source": [
    "flipped_matrix = np.flipud(fuel_matrix)"
   ]
  },
  {
   "cell_type": "code",
   "execution_count": 9,
   "id": "275f6cb5-cf54-44c5-97da-255f7734bbab",
   "metadata": {},
   "outputs": [
    {
     "data": {
      "image/png": "[encoded data removed]",
      "text/plain": [
       "<Figure size 500x500 with 1 Axes>"
      ]
     },
     "metadata": {},
     "output_type": "display_data"
    }
   ],
   "source": [
    "# Function to plot a binary matrix\n",
    "def plot_binary_matrix(size=10):\n",
    "    \"\"\"\n",
    "    Generates and plots a binary matrix of the given size.\n",
    "    \n",
    "    Parameters:\n",
    "    - size: int, the width and height of the square binary matrix\n",
    "    \"\"\"\n",
    "    # Generate a random binary matrix\n",
    "    binary_matrix = flipped_matrix\n",
    "    \n",
    "    # Plot the matrix\n",
    "    plt.figure(figsize=(5, 5))\n",
    "    plt.imshow(binary_matrix, cmap='gray', interpolation='nearest')\n",
    "    plt.title(f'{size}x{size} Binary Matrix')\n",
    "    plt.axis('off')  # Hide the axes\n",
    "    plt.show()\n",
    "\n",
    "# Call the function to plot a 10x10 binary matrix\n",
    "plot_binary_matrix(10)"
   ]
  },
  {
   "cell_type": "code",
   "execution_count": 10,
   "id": "3e4d1e77-cd49-4d6f-ac2f-a51de98d966b",
   "metadata": {},
   "outputs": [],
   "source": [
    "np.savetxt(\"fuel_matrix.csv\", flipped_matrix, delimiter=\",\", fmt=\"%d\")"
   ]
  },
  {
   "cell_type": "code",
   "execution_count": 12,
   "id": "74f67896-bac2-4732-940f-73b237a1d4df",
   "metadata": {},
   "outputs": [
    {
     "data": {
      "text/plain": [
       "(100, 100)"
      ]
     },
     "execution_count": 12,
     "metadata": {},
     "output_type": "execute_result"
    }
   ],
   "source": [
    "flipped_matrix.shape"
   ]
  },
  {
   "cell_type": "code",
   "execution_count": null,
   "id": "51d6a3a8-6f82-435b-b3ae-e279cd7fb008",
   "metadata": {},
   "outputs": [],
   "source": [
    "for i in range(flipped_matrix.shape[0]):\n",
    "    for j in range(flipped_matrix.shape[1]):\n",
    "        "
   ]
  },
  {
   "cell_type": "code",
   "execution_count": 14,
   "id": "4fa2d66b-da20-461c-a7e5-f1af8582e189",
   "metadata": {},
   "outputs": [
    {
     "name": "stdout",
     "output_type": "stream",
     "text": [
      "Index of the first non-zero element: (58, 2)\n"
     ]
    }
   ],
   "source": [
    "index_flat = np.argmax(flipped_matrix.flatten('F') > 0)\n",
    "\n",
    "if index_flat == 0 and matrix.flatten('F')[0] == 0:\n",
    "    print(\"No non-zero elements found.\")\n",
    "else:\n",
    "    # Convert flat index back to 2D index\n",
    "    rows, cols = flipped_matrix.shape\n",
    "    row_index = index_flat % rows\n",
    "    col_index = index_flat // rows\n",
    "    print(f\"Index of the first non-zero element: ({row_index}, {col_index})\")"
   ]
  },
  {
   "cell_type": "code",
   "execution_count": null,
   "id": "bf4090d6-38ff-434e-85c5-c3dcaead1842",
   "metadata": {},
   "outputs": [],
   "source": []
  }
 ],
 "metadata": {
  "kernelspec": {
   "display_name": "Python 3 (ipykernel)",
   "language": "python",
   "name": "python3"
  },
  "language_info": {
   "codemirror_mode": {
    "name": "ipython",
    "version": 3
   },
   "file_extension": ".py",
   "mimetype": "text/x-python",
   "name": "python",
   "nbconvert_exporter": "python",
   "pygments_lexer": "ipython3",
   "version": "3.10.14"
  }
 },
 "nbformat": 4,
 "nbformat_minor": 5
}
