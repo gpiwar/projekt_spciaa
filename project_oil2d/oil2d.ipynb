{
 "cells": [
  {
   "cell_type": "code",
   "execution_count": 13,
   "metadata": {
    "id": "wjD1bBDm4q-t"
   },
   "outputs": [],
   "source": [
    "import cv2\n",
    "import numpy as np\n",
    "\n",
    "# Load the image in grayscale mode\n",
    "image_path = \"map(2).png\"\n",
    "binary_image = cv2.imread(image_path, cv2.IMREAD_GRAYSCALE)\n",
    "\n",
    "# Apply threshold to make sure it's binary\n",
    "# _, binary_threshold = cv2.threshold(binary_image, 127, 255, cv2.THRESH_BINARY)\n",
    "\n",
    "# Convert 255s to 1s\n",
    "matrix = (binary_image / 255).astype(np.float64)\n",
    "\n",
    "# Now, fuel_matrix contains 1s for fuel areas and 0s for non-fuel areas"
   ]
  },
  {
   "cell_type": "code",
   "execution_count": 15,
   "metadata": {
    "id": "sNSJyz_J6nQT"
   },
   "outputs": [],
   "source": [
    "np.savetxt(\"matrix.csv\", matrix, delimiter=\",\", fmt=\"%f\")"
   ]
  },
  {
   "cell_type": "code",
   "execution_count": 27,
   "metadata": {
    "colab": {
     "base_uri": "https://localhost:8080/",
     "height": 416
    },
    "id": "kndFYvMC6thz",
    "outputId": "a1bc8819-1765-45d9-9f14-b9220dd84073"
   },
   "outputs": [
    {
     "data": {
      "image/png": "[encoded data removed]",
      "text/plain": [
       "<Figure size 500x500 with 1 Axes>"
      ]
     },
     "metadata": {},
     "output_type": "display_data"
    }
   ],
   "source": [
    "import matplotlib.pyplot as plt\n",
    "import numpy as np\n",
    "\n",
    "# Function to plot a binary matrix\n",
    "def plot_binary_matrix(size=10):\n",
    "    \"\"\"\n",
    "    Generates and plots a binary matrix of the given size.\n",
    "\n",
    "    Parameters:\n",
    "    - size: int, the width and height of the square binary matrix\n",
    "    \"\"\"\n",
    "    # Generate a random binary matrix\n",
    "    binary_matrix = matrix\n",
    "    #binary_matrix = flipped_matrix\n",
    "\n",
    "    # Plot the matrix\n",
    "    plt.figure(figsize=(5, 5))\n",
    "    plt.imshow(binary_matrix, cmap='gray', interpolation='nearest')\n",
    "    plt.title(f'{size}x{size} Binary Matrix')\n",
    "    plt.axis('off')  # Hide the axes\n",
    "    plt.show()\n",
    "\n",
    "# Call the function to plot a 10x10 binary matrix\n",
    "plot_binary_matrix(20)"
   ]
  },
  {
   "cell_type": "code",
   "execution_count": 17,
   "metadata": {
    "id": "3gtInds97HNP"
   },
   "outputs": [],
   "source": [
    "np.savetxt(\"matrix.csv\", matrix, delimiter=\",\", fmt=\"%f\")"
   ]
  },
  {
   "cell_type": "code",
   "execution_count": 12,
   "metadata": {},
   "outputs": [
    {
     "data": {
      "text/plain": [
       "(20, 20)"
      ]
     },
     "execution_count": 12,
     "metadata": {},
     "output_type": "execute_result"
    }
   ],
   "source": [
    "matrix.shape"
   ]
  },
  {
   "cell_type": "code",
   "execution_count": 21,
   "metadata": {},
   "outputs": [],
   "source": [
    "flipped_matrix = np.flipud(matrix)"
   ]
  },
  {
   "cell_type": "code",
   "execution_count": 26,
   "metadata": {},
   "outputs": [
    {
     "data": {
      "text/plain": [
       "array([[ 3,  2],\n",
       "       [ 3,  3],\n",
       "       [ 3,  4],\n",
       "       [ 3,  5],\n",
       "       [ 5, 14],\n",
       "       [ 6, 15],\n",
       "       [ 6, 17],\n",
       "       [ 8,  2],\n",
       "       [ 8,  3],\n",
       "       [ 9,  3],\n",
       "       [ 9,  4],\n",
       "       [ 9,  5],\n",
       "       [ 9,  7],\n",
       "       [ 9, 10],\n",
       "       [ 9, 12],\n",
       "       [ 9, 15],\n",
       "       [11, 12],\n",
       "       [12,  2],\n",
       "       [13,  3],\n",
       "       [14,  4],\n",
       "       [14,  7],\n",
       "       [15,  7],\n",
       "       [15,  8],\n",
       "       [16,  1],\n",
       "       [16,  2],\n",
       "       [16,  3],\n",
       "       [16,  8],\n",
       "       [16,  9],\n",
       "       [16, 10],\n",
       "       [16, 11],\n",
       "       [17,  3],\n",
       "       [17,  4],\n",
       "       [17, 11],\n",
       "       [17, 12]], dtype=int64)"
      ]
     },
     "execution_count": 26,
     "metadata": {},
     "output_type": "execute_result"
    }
   ],
   "source": [
    "np.argwhere(flipped_matrix > 0.7)"
   ]
  },
  {
   "cell_type": "code",
   "execution_count": null,
   "metadata": {},
   "outputs": [],
   "source": []
  }
 ],
 "metadata": {
  "colab": {
   "provenance": []
  },
  "kernelspec": {
   "display_name": "Python 3 (ipykernel)",
   "language": "python",
   "name": "python3"
  },
  "language_info": {
   "codemirror_mode": {
    "name": "ipython",
    "version": 3
   },
   "file_extension": ".py",
   "mimetype": "text/x-python",
   "name": "python",
   "nbconvert_exporter": "python",
   "pygments_lexer": "ipython3",
   "version": "3.10.14"
  }
 },
 "nbformat": 4,
 "nbformat_minor": 4
}
