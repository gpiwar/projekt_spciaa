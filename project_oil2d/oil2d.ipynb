{
  "nbformat": 4,
  "nbformat_minor": 0,
  "metadata": {
    "colab": {
      "provenance": []
    },
    "kernelspec": {
      "name": "python3",
      "display_name": "Python 3"
    },
    "language_info": {
      "name": "python"
    }
  },
  "cells": [
    {
      "cell_type": "code",
      "execution_count": 44,
      "metadata": {
        "id": "wjD1bBDm4q-t"
      },
      "outputs": [],
      "source": [
        "import cv2\n",
        "import numpy as np\n",
        "\n",
        "# Load the image in grayscale mode\n",
        "image_path = \"map.png\"\n",
        "binary_image = cv2.imread(image_path, cv2.IMREAD_GRAYSCALE)\n",
        "\n",
        "# Apply threshold to make sure it's binary\n",
        "# _, binary_threshold = cv2.threshold(binary_image, 127, 255, cv2.THRESH_BINARY)\n",
        "\n",
        "# Convert 255s to 1s\n",
        "matrix = (binary_image / 255).astype(np.float64)\n",
        "\n",
        "# Now, fuel_matrix contains 1s for fuel areas and 0s for non-fuel areas"
      ]
    },
    {
      "cell_type": "code",
      "source": [
        "matrix"
      ],
      "metadata": {
        "colab": {
          "base_uri": "https://localhost:8080/"
        },
        "id": "YxPoefKn6BWb",
        "outputId": "afee36b2-cc9c-41a9-a0c0-9a7e8996272b"
      },
      "execution_count": 45,
      "outputs": [
        {
          "output_type": "execute_result",
          "data": {
            "text/plain": [
              "array([[0.73333333, 0.10980392, 0.08235294, ..., 0.08235294, 0.08235294,\n",
              "        0.16862745],\n",
              "       [0.41176471, 0.        , 0.        , ..., 0.        , 0.        ,\n",
              "        0.        ],\n",
              "       [0.41176471, 0.        , 0.08235294, ..., 0.08235294, 0.        ,\n",
              "        0.        ],\n",
              "       ...,\n",
              "       [0.41176471, 0.        , 0.19607843, ..., 0.19607843, 0.18039216,\n",
              "        0.08235294],\n",
              "       [0.41176471, 0.        , 0.15294118, ..., 0.15294118, 0.13333333,\n",
              "        0.08235294],\n",
              "       [0.41176471, 0.        , 0.08235294, ..., 0.08235294, 0.08235294,\n",
              "        0.        ]])"
            ]
          },
          "metadata": {},
          "execution_count": 45
        }
      ]
    },
    {
      "cell_type": "code",
      "source": [
        "np.savetxt(\"matrix.csv\", matrix, delimiter=\",\", fmt=\"%f\")"
      ],
      "metadata": {
        "id": "sNSJyz_J6nQT"
      },
      "execution_count": 46,
      "outputs": []
    },
    {
      "cell_type": "code",
      "source": [
        "import matplotlib.pyplot as plt\n",
        "import numpy as np\n",
        "\n",
        "# Function to plot a binary matrix\n",
        "def plot_binary_matrix(size=10):\n",
        "    \"\"\"\n",
        "    Generates and plots a binary matrix of the given size.\n",
        "\n",
        "    Parameters:\n",
        "    - size: int, the width and height of the square binary matrix\n",
        "    \"\"\"\n",
        "    # Generate a random binary matrix\n",
        "    binary_matrix = matrix\n",
        "\n",
        "    # Plot the matrix\n",
        "    plt.figure(figsize=(5, 5))\n",
        "    plt.imshow(binary_matrix, cmap='gray', interpolation='nearest')\n",
        "    plt.title(f'{size}x{size} Binary Matrix')\n",
        "    plt.axis('off')  # Hide the axes\n",
        "    plt.show()\n",
        "\n",
        "# Call the function to plot a 10x10 binary matrix\n",
        "plot_binary_matrix(20)"
      ],
      "metadata": {
        "colab": {
          "base_uri": "https://localhost:8080/",
          "height": 416
        },
        "id": "kndFYvMC6thz",
        "outputId": "a1bc8819-1765-45d9-9f14-b9220dd84073"
      },
      "execution_count": 47,
      "outputs": [
        {
          "output_type": "display_data",
          "data": {
            "text/plain": [
              "<Figure size 500x500 with 1 Axes>"
            ],
            "image/png": "[encoded data removed]"
          },
          "metadata": {}
        }
      ]
    },
    {
      "cell_type": "code",
      "source": [
        "np.savetxt(\"matrix.csv\", matrix, delimiter=\",\", fmt=\"%f\")"
      ],
      "metadata": {
        "id": "3gtInds97HNP"
      },
      "execution_count": 48,
      "outputs": []
    }
  ]
}